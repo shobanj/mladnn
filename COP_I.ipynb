{
  "nbformat": 4,
  "nbformat_minor": 0,
  "metadata": {
    "colab": {
      "name": "COP-I",
      "version": "0.3.2",
      "provenance": [],
      "include_colab_link": true
    },
    "kernelspec": {
      "name": "python3",
      "display_name": "Python 3"
    }
  },
  "cells": [
    {
      "cell_type": "markdown",
      "metadata": {
        "id": "view-in-github",
        "colab_type": "text"
      },
      "source": [
        "<a href=\"https://colab.research.google.com/github/shobanj/mladnn/blob/master/COP_I.ipynb\" target=\"_parent\"><img src=\"https://colab.research.google.com/assets/colab-badge.svg\" alt=\"Open In Colab\"/></a>"
      ]
    },
    {
      "cell_type": "code",
      "metadata": {
        "id": "hJ0KDhF4wb3u",
        "colab_type": "code",
        "outputId": "a71fd927-89fa-4b8e-c4c8-70a4a2c77ac3",
        "colab": {
          "base_uri": "https://localhost:8080/",
          "height": 34
        }
      },
      "source": [
        "from keras.applications.vgg16 import VGG16\n",
        "from keras.preprocessing import image\n",
        "from keras.applications.vgg16 import preprocess_input, decode_predictions\n",
        "import numpy as np\n",
        "import requests\n",
        "import urllib.request"
      ],
      "execution_count": 1,
      "outputs": [
        {
          "output_type": "stream",
          "text": [
            "Using TensorFlow backend.\n"
          ],
          "name": "stderr"
        }
      ]
    },
    {
      "cell_type": "code",
      "metadata": {
        "id": "XmyTv1u_yknl",
        "colab_type": "code",
        "outputId": "a2a8f4d4-a462-4def-cb3e-1880403e7b04",
        "colab": {
          "base_uri": "https://localhost:8080/",
          "height": 34
        }
      },
      "source": [
        "from google.colab import drive\n",
        "drive.mount('/content/drive')"
      ],
      "execution_count": 15,
      "outputs": [
        {
          "output_type": "stream",
          "text": [
            "Mounted at /content/drive\n"
          ],
          "name": "stdout"
        }
      ]
    },
    {
      "cell_type": "code",
      "metadata": {
        "id": "CDXJmFWPg9XN",
        "colab_type": "code",
        "colab": {
          "base_uri": "https://localhost:8080/",
          "height": 34
        },
        "outputId": "b0b5ab14-1c8c-4716-f24f-073c1ce864a5"
      },
      "source": [
        "!ls \"/content/drive/My Drive/ml\""
      ],
      "execution_count": 16,
      "outputs": [
        {
          "output_type": "stream",
          "text": [
            "traffic.jpg\n"
          ],
          "name": "stdout"
        }
      ]
    },
    {
      "cell_type": "code",
      "metadata": {
        "id": "HzfyO5yUx0-x",
        "colab_type": "code",
        "outputId": "b4f57f45-a272-4d64-ae40-4218ddef1291",
        "colab": {
          "base_uri": "https://localhost:8080/",
          "height": 289
        }
      },
      "source": [
        "model = VGG16(weights='imagenet')"
      ],
      "execution_count": 20,
      "outputs": [
        {
          "output_type": "stream",
          "text": [
            "WARNING: Logging before flag parsing goes to stderr.\n",
            "W0701 03:16:01.451716 139860752705408 deprecation_wrapper.py:119] From /usr/local/lib/python3.6/dist-packages/keras/backend/tensorflow_backend.py:74: The name tf.get_default_graph is deprecated. Please use tf.compat.v1.get_default_graph instead.\n",
            "\n",
            "W0701 03:16:01.496122 139860752705408 deprecation_wrapper.py:119] From /usr/local/lib/python3.6/dist-packages/keras/backend/tensorflow_backend.py:517: The name tf.placeholder is deprecated. Please use tf.compat.v1.placeholder instead.\n",
            "\n",
            "W0701 03:16:01.505291 139860752705408 deprecation_wrapper.py:119] From /usr/local/lib/python3.6/dist-packages/keras/backend/tensorflow_backend.py:4138: The name tf.random_uniform is deprecated. Please use tf.random.uniform instead.\n",
            "\n",
            "W0701 03:16:01.574862 139860752705408 deprecation_wrapper.py:119] From /usr/local/lib/python3.6/dist-packages/keras/backend/tensorflow_backend.py:3976: The name tf.nn.max_pool is deprecated. Please use tf.nn.max_pool2d instead.\n",
            "\n"
          ],
          "name": "stderr"
        },
        {
          "output_type": "stream",
          "text": [
            "Downloading data from https://github.com/fchollet/deep-learning-models/releases/download/v0.1/vgg16_weights_tf_dim_ordering_tf_kernels.h5\n",
            "553467904/553467096 [==============================] - 5s 0us/step\n"
          ],
          "name": "stdout"
        },
        {
          "output_type": "stream",
          "text": [
            "W0701 03:16:08.397494 139860752705408 deprecation_wrapper.py:119] From /usr/local/lib/python3.6/dist-packages/keras/backend/tensorflow_backend.py:174: The name tf.get_default_session is deprecated. Please use tf.compat.v1.get_default_session instead.\n",
            "\n",
            "W0701 03:16:08.401292 139860752705408 deprecation_wrapper.py:119] From /usr/local/lib/python3.6/dist-packages/keras/backend/tensorflow_backend.py:181: The name tf.ConfigProto is deprecated. Please use tf.compat.v1.ConfigProto instead.\n",
            "\n"
          ],
          "name": "stderr"
        }
      ]
    },
    {
      "cell_type": "code",
      "metadata": {
        "id": "vQr_tgGQx8Gv",
        "colab_type": "code",
        "colab": {}
      },
      "source": [
        "img_path = '/content/drive/My Drive/ml/traffic.jpg'\n",
        "img = image.load_img(img_path, target_size=(224, 224))\n",
        "x = image.img_to_array(img)\n",
        "x = np.expand_dims(x, axis=0)\n",
        "x = preprocess_input(x)"
      ],
      "execution_count": 0,
      "outputs": []
    },
    {
      "cell_type": "code",
      "metadata": {
        "id": "wghQUltfzYH6",
        "colab_type": "code",
        "colab": {}
      },
      "source": [
        "img.show()"
      ],
      "execution_count": 0,
      "outputs": []
    },
    {
      "cell_type": "code",
      "metadata": {
        "id": "8cp1Y020zKOj",
        "colab_type": "code",
        "outputId": "04ce39bc-282f-4cd5-a673-37e4c886efc7",
        "colab": {
          "base_uri": "https://localhost:8080/",
          "height": 67
        }
      },
      "source": [
        "features = model.predict(x)\n",
        "print('Predicted:', decode_predictions(features, top=3)[0])"
      ],
      "execution_count": 21,
      "outputs": [
        {
          "output_type": "stream",
          "text": [
            "Downloading data from https://storage.googleapis.com/download.tensorflow.org/data/imagenet_class_index.json\n",
            "40960/35363 [==================================] - 0s 0us/step\n",
            "Predicted: [('n02930766', 'cab', 0.29077625), ('n04462240', 'toyshop', 0.16722465), ('n03000684', 'chain_saw', 0.12410405)]\n"
          ],
          "name": "stdout"
        }
      ]
    },
    {
      "cell_type": "code",
      "metadata": {
        "id": "C61oiiMf064A",
        "colab_type": "code",
        "outputId": "d0017378-eb4b-4cdc-e9b8-9ac29de56678",
        "colab": {
          "base_uri": "https://localhost:8080/",
          "height": 1445
        }
      },
      "source": [
        ""
      ],
      "execution_count": 0,
      "outputs": [
        {
          "output_type": "execute_result",
          "data": {
            "text/plain": [
              "array([[[[ 0.       ,  0.       ,  0.       , ...,  0.       ,\n",
              "           0.       ,  0.       ],\n",
              "         [ 0.       ,  0.       ,  0.       , ...,  0.       ,\n",
              "           0.       ,  0.       ],\n",
              "         [ 0.       ,  0.       ,  0.       , ...,  0.       ,\n",
              "           0.       ,  0.       ],\n",
              "         ...,\n",
              "         [ 0.       ,  0.       ,  0.       , ...,  0.       ,\n",
              "           0.       ,  0.       ],\n",
              "         [ 0.       ,  0.       ,  0.       , ...,  0.       ,\n",
              "           0.       ,  0.       ],\n",
              "         [ 0.       ,  0.       ,  0.       , ...,  0.       ,\n",
              "           0.       ,  0.       ]],\n",
              "\n",
              "        [[ 0.       ,  0.       ,  0.       , ...,  0.       ,\n",
              "           0.       ,  0.       ],\n",
              "         [ 0.       ,  0.       , 19.551716 , ...,  0.       ,\n",
              "           0.       ,  0.       ],\n",
              "         [ 0.       ,  0.       , 34.618587 , ...,  0.       ,\n",
              "           0.       ,  0.       ],\n",
              "         ...,\n",
              "         [ 0.       ,  0.       ,  8.862607 , ...,  0.       ,\n",
              "           0.       ,  0.       ],\n",
              "         [ 0.       ,  0.       ,  0.       , ...,  0.       ,\n",
              "           0.       ,  0.       ],\n",
              "         [ 0.       ,  0.       ,  0.       , ...,  0.       ,\n",
              "           0.       ,  0.       ]],\n",
              "\n",
              "        [[ 0.       ,  0.       ,  0.       , ...,  0.       ,\n",
              "           0.       ,  0.       ],\n",
              "         [ 4.4434366,  0.       ,  0.       , ...,  0.       ,\n",
              "           0.       ,  0.       ],\n",
              "         [ 0.       ,  0.       , 47.286655 , ...,  0.       ,\n",
              "           0.       ,  0.       ],\n",
              "         ...,\n",
              "         [ 0.       ,  0.       , 63.41874  , ...,  0.       ,\n",
              "           0.       ,  0.       ],\n",
              "         [ 0.       ,  0.       ,  8.62056  , ...,  0.       ,\n",
              "           0.       ,  0.       ],\n",
              "         [ 0.       ,  0.       ,  0.       , ...,  0.       ,\n",
              "           0.       ,  0.       ]],\n",
              "\n",
              "        ...,\n",
              "\n",
              "        [[ 0.       ,  0.       ,  0.       , ...,  0.       ,\n",
              "           0.       ,  0.       ],\n",
              "         [ 0.       ,  0.       ,  0.       , ...,  0.       ,\n",
              "           0.       ,  0.       ],\n",
              "         [ 0.       ,  0.       ,  0.       , ...,  0.       ,\n",
              "           0.       ,  0.       ],\n",
              "         ...,\n",
              "         [ 0.       ,  0.       ,  0.       , ...,  0.       ,\n",
              "           0.       , 11.381715 ],\n",
              "         [ 0.       ,  0.       ,  0.       , ...,  0.       ,\n",
              "           0.       ,  0.       ],\n",
              "         [ 0.       ,  0.       ,  0.       , ...,  0.       ,\n",
              "           0.       ,  0.       ]],\n",
              "\n",
              "        [[ 0.       ,  0.       ,  0.       , ...,  0.       ,\n",
              "           0.       ,  0.       ],\n",
              "         [ 0.       ,  0.       ,  0.       , ...,  0.       ,\n",
              "           0.       ,  0.       ],\n",
              "         [ 0.       ,  0.       ,  0.       , ...,  0.       ,\n",
              "           0.       ,  0.       ],\n",
              "         ...,\n",
              "         [ 0.       ,  0.       ,  0.       , ...,  0.       ,\n",
              "           0.       , 20.693474 ],\n",
              "         [ 0.       ,  0.       ,  0.       , ...,  0.       ,\n",
              "           0.       ,  0.       ],\n",
              "         [ 0.       ,  0.       ,  0.       , ...,  0.       ,\n",
              "           0.       ,  0.       ]],\n",
              "\n",
              "        [[ 0.       ,  0.       ,  0.       , ...,  0.       ,\n",
              "           0.       ,  0.       ],\n",
              "         [ 0.       ,  0.       ,  0.       , ...,  0.       ,\n",
              "           0.       ,  0.       ],\n",
              "         [ 0.       ,  0.       ,  0.       , ...,  0.       ,\n",
              "           0.       ,  0.       ],\n",
              "         ...,\n",
              "         [ 0.       ,  0.       ,  0.       , ...,  0.       ,\n",
              "           0.       ,  0.       ],\n",
              "         [ 0.       ,  0.       ,  0.       , ...,  0.       ,\n",
              "           0.       ,  0.       ],\n",
              "         [ 0.       ,  0.       ,  0.       , ...,  0.       ,\n",
              "           0.       ,  0.       ]]]], dtype=float32)"
            ]
          },
          "metadata": {
            "tags": []
          },
          "execution_count": 14
        }
      ]
    },
    {
      "cell_type": "code",
      "metadata": {
        "id": "tr2FKaxf-dI3",
        "colab_type": "code",
        "colab": {}
      },
      "source": [
        ""
      ],
      "execution_count": 0,
      "outputs": []
    },
    {
      "cell_type": "code",
      "metadata": {
        "id": "e5Qny9IF09NA",
        "colab_type": "code",
        "colab": {}
      },
      "source": [
        ""
      ],
      "execution_count": 0,
      "outputs": []
    }
  ]
}
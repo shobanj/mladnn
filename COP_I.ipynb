{
  "nbformat": 4,
  "nbformat_minor": 0,
  "metadata": {
    "colab": {
      "name": "COP-I",
      "version": "0.3.2",
      "provenance": [],
      "include_colab_link": true
    },
    "kernelspec": {
      "name": "python3",
      "display_name": "Python 3"
    }
  },
  "cells": [
    {
      "cell_type": "markdown",
      "metadata": {
        "id": "view-in-github",
        "colab_type": "text"
      },
      "source": [
        "<a href=\"https://colab.research.google.com/github/shobanj/mladnn/blob/master/COP_I.ipynb\" target=\"_parent\"><img src=\"https://colab.research.google.com/assets/colab-badge.svg\" alt=\"Open In Colab\"/></a>"
      ]
    },
    {
      "metadata": {
        "id": "hJ0KDhF4wb3u",
        "colab_type": "code",
        "colab": {}
      },
      "cell_type": "code",
      "source": [
        "from keras.applications.vgg16 import VGG16\n",
        "from keras.preprocessing import image\n",
        "from keras.applications.vgg16 import preprocess_input, decode_predictions\n",
        "import numpy as np"
      ],
      "execution_count": 0,
      "outputs": []
    },
    {
      "metadata": {
        "id": "HzfyO5yUx0-x",
        "colab_type": "code",
        "colab": {
          "base_uri": "https://localhost:8080/",
          "height": 50
        },
        "outputId": "aecb3a3d-2f6b-4425-a03c-08db0ce655a9"
      },
      "cell_type": "code",
      "source": [
        "model = VGG16(weights='imagenet')"
      ],
      "execution_count": 17,
      "outputs": [
        {
          "output_type": "stream",
          "text": [
            "Downloading data from https://github.com/fchollet/deep-learning-models/releases/download/v0.1/vgg16_weights_tf_dim_ordering_tf_kernels.h5\n",
            "553467904/553467096 [==============================] - 16s 0us/step\n"
          ],
          "name": "stdout"
        }
      ]
    },
    {
      "metadata": {
        "id": "vQr_tgGQx8Gv",
        "colab_type": "code",
        "colab": {}
      },
      "cell_type": "code",
      "source": [
        "img_path = 'DSC_2937[1].jpg'\n",
        "img = image.load_img(img_path, target_size=(224, 224))\n",
        "x = image.img_to_array(img)\n",
        "x = np.expand_dims(x, axis=0)\n",
        "x = preprocess_input(x)"
      ],
      "execution_count": 0,
      "outputs": []
    },
    {
      "metadata": {
        "id": "8cp1Y020zKOj",
        "colab_type": "code",
        "colab": {
          "base_uri": "https://localhost:8080/",
          "height": 34
        },
        "outputId": "3fe974ba-c2dd-4b53-ac0d-671116c023e3"
      },
      "cell_type": "code",
      "source": [
        "features = model.predict(x)\n",
        "print('Predicted:', decode_predictions(features, top=3)[0])"
      ],
      "execution_count": 21,
      "outputs": [
        {
          "output_type": "stream",
          "text": [
            "Predicted: [('n03127747', 'crash_helmet', 0.8315957), ('n03785016', 'moped', 0.0554454), ('n03792782', 'mountain_bike', 0.03753255)]\n"
          ],
          "name": "stdout"
        }
      ]
    },
    {
      "metadata": {
        "id": "C61oiiMf064A",
        "colab_type": "code",
        "colab": {
          "base_uri": "https://localhost:8080/",
          "height": 1445
        },
        "outputId": "d0017378-eb4b-4cdc-e9b8-9ac29de56678"
      },
      "cell_type": "code",
      "source": [
        ""
      ],
      "execution_count": 14,
      "outputs": [
        {
          "output_type": "execute_result",
          "data": {
            "text/plain": [
              "array([[[[ 0.       ,  0.       ,  0.       , ...,  0.       ,\n",
              "           0.       ,  0.       ],\n",
              "         [ 0.       ,  0.       ,  0.       , ...,  0.       ,\n",
              "           0.       ,  0.       ],\n",
              "         [ 0.       ,  0.       ,  0.       , ...,  0.       ,\n",
              "           0.       ,  0.       ],\n",
              "         ...,\n",
              "         [ 0.       ,  0.       ,  0.       , ...,  0.       ,\n",
              "           0.       ,  0.       ],\n",
              "         [ 0.       ,  0.       ,  0.       , ...,  0.       ,\n",
              "           0.       ,  0.       ],\n",
              "         [ 0.       ,  0.       ,  0.       , ...,  0.       ,\n",
              "           0.       ,  0.       ]],\n",
              "\n",
              "        [[ 0.       ,  0.       ,  0.       , ...,  0.       ,\n",
              "           0.       ,  0.       ],\n",
              "         [ 0.       ,  0.       , 19.551716 , ...,  0.       ,\n",
              "           0.       ,  0.       ],\n",
              "         [ 0.       ,  0.       , 34.618587 , ...,  0.       ,\n",
              "           0.       ,  0.       ],\n",
              "         ...,\n",
              "         [ 0.       ,  0.       ,  8.862607 , ...,  0.       ,\n",
              "           0.       ,  0.       ],\n",
              "         [ 0.       ,  0.       ,  0.       , ...,  0.       ,\n",
              "           0.       ,  0.       ],\n",
              "         [ 0.       ,  0.       ,  0.       , ...,  0.       ,\n",
              "           0.       ,  0.       ]],\n",
              "\n",
              "        [[ 0.       ,  0.       ,  0.       , ...,  0.       ,\n",
              "           0.       ,  0.       ],\n",
              "         [ 4.4434366,  0.       ,  0.       , ...,  0.       ,\n",
              "           0.       ,  0.       ],\n",
              "         [ 0.       ,  0.       , 47.286655 , ...,  0.       ,\n",
              "           0.       ,  0.       ],\n",
              "         ...,\n",
              "         [ 0.       ,  0.       , 63.41874  , ...,  0.       ,\n",
              "           0.       ,  0.       ],\n",
              "         [ 0.       ,  0.       ,  8.62056  , ...,  0.       ,\n",
              "           0.       ,  0.       ],\n",
              "         [ 0.       ,  0.       ,  0.       , ...,  0.       ,\n",
              "           0.       ,  0.       ]],\n",
              "\n",
              "        ...,\n",
              "\n",
              "        [[ 0.       ,  0.       ,  0.       , ...,  0.       ,\n",
              "           0.       ,  0.       ],\n",
              "         [ 0.       ,  0.       ,  0.       , ...,  0.       ,\n",
              "           0.       ,  0.       ],\n",
              "         [ 0.       ,  0.       ,  0.       , ...,  0.       ,\n",
              "           0.       ,  0.       ],\n",
              "         ...,\n",
              "         [ 0.       ,  0.       ,  0.       , ...,  0.       ,\n",
              "           0.       , 11.381715 ],\n",
              "         [ 0.       ,  0.       ,  0.       , ...,  0.       ,\n",
              "           0.       ,  0.       ],\n",
              "         [ 0.       ,  0.       ,  0.       , ...,  0.       ,\n",
              "           0.       ,  0.       ]],\n",
              "\n",
              "        [[ 0.       ,  0.       ,  0.       , ...,  0.       ,\n",
              "           0.       ,  0.       ],\n",
              "         [ 0.       ,  0.       ,  0.       , ...,  0.       ,\n",
              "           0.       ,  0.       ],\n",
              "         [ 0.       ,  0.       ,  0.       , ...,  0.       ,\n",
              "           0.       ,  0.       ],\n",
              "         ...,\n",
              "         [ 0.       ,  0.       ,  0.       , ...,  0.       ,\n",
              "           0.       , 20.693474 ],\n",
              "         [ 0.       ,  0.       ,  0.       , ...,  0.       ,\n",
              "           0.       ,  0.       ],\n",
              "         [ 0.       ,  0.       ,  0.       , ...,  0.       ,\n",
              "           0.       ,  0.       ]],\n",
              "\n",
              "        [[ 0.       ,  0.       ,  0.       , ...,  0.       ,\n",
              "           0.       ,  0.       ],\n",
              "         [ 0.       ,  0.       ,  0.       , ...,  0.       ,\n",
              "           0.       ,  0.       ],\n",
              "         [ 0.       ,  0.       ,  0.       , ...,  0.       ,\n",
              "           0.       ,  0.       ],\n",
              "         ...,\n",
              "         [ 0.       ,  0.       ,  0.       , ...,  0.       ,\n",
              "           0.       ,  0.       ],\n",
              "         [ 0.       ,  0.       ,  0.       , ...,  0.       ,\n",
              "           0.       ,  0.       ],\n",
              "         [ 0.       ,  0.       ,  0.       , ...,  0.       ,\n",
              "           0.       ,  0.       ]]]], dtype=float32)"
            ]
          },
          "metadata": {
            "tags": []
          },
          "execution_count": 14
        }
      ]
    },
    {
      "metadata": {
        "id": "tr2FKaxf-dI3",
        "colab_type": "code",
        "colab": {}
      },
      "cell_type": "code",
      "source": [
        ""
      ],
      "execution_count": 0,
      "outputs": []
    },
    {
      "metadata": {
        "id": "e5Qny9IF09NA",
        "colab_type": "code",
        "colab": {}
      },
      "cell_type": "code",
      "source": [
        ""
      ],
      "execution_count": 0,
      "outputs": []
    }
  ]
}
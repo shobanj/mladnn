{
  "nbformat": 4,
  "nbformat_minor": 0,
  "metadata": {
    "colab": {
      "name": "COP-I",
      "version": "0.3.2",
      "provenance": [],
      "include_colab_link": true
    },
    "kernelspec": {
      "name": "python3",
      "display_name": "Python 3"
    }
  },
  "cells": [
    {
      "cell_type": "markdown",
      "metadata": {
        "id": "view-in-github",
        "colab_type": "text"
      },
      "source": [
        "<a href=\"https://colab.research.google.com/github/shobanj/mladnn/blob/master/COP_I.ipynb\" target=\"_parent\"><img src=\"https://colab.research.google.com/assets/colab-badge.svg\" alt=\"Open In Colab\"/></a>"
      ]
    },
    {
      "cell_type": "code",
      "metadata": {
        "id": "hJ0KDhF4wb3u",
        "colab_type": "code",
        "colab": {
          "base_uri": "https://localhost:8080/",
          "height": 34
        },
        "outputId": "4f00de65-ff39-46bf-caa0-7c518ab19b16"
      },
      "source": [
        "from keras.applications.vgg16 import VGG16\n",
        "from keras.preprocessing import image\n",
        "from keras.applications.vgg16 import preprocess_input, decode_predictions\n",
        "import numpy as np\n",
        "import requests\n",
        "import urllib.request"
      ],
      "execution_count": 4,
      "outputs": [
        {
          "output_type": "stream",
          "text": [
            "Using TensorFlow backend.\n"
          ],
          "name": "stderr"
        }
      ]
    },
    {
      "cell_type": "code",
      "metadata": {
        "id": "XmyTv1u_yknl",
        "colab_type": "code",
        "colab": {
          "base_uri": "https://localhost:8080/",
          "height": 121
        },
        "outputId": "996b2958-209a-40f6-ef23-f9a41ef5f81f"
      },
      "source": [
        "from google.colab import drive\n",
        "drive.mount('/ml')"
      ],
      "execution_count": 1,
      "outputs": [
        {
          "output_type": "stream",
          "text": [
            "Go to this URL in a browser: https://accounts.google.com/o/oauth2/auth?client_id=947318989803-6bn6qk8qdgf4n4g3pfee6491hc0brc4i.apps.googleusercontent.com&redirect_uri=urn%3Aietf%3Awg%3Aoauth%3A2.0%3Aoob&scope=email%20https%3A%2F%2Fwww.googleapis.com%2Fauth%2Fdocs.test%20https%3A%2F%2Fwww.googleapis.com%2Fauth%2Fdrive%20https%3A%2F%2Fwww.googleapis.com%2Fauth%2Fdrive.photos.readonly%20https%3A%2F%2Fwww.googleapis.com%2Fauth%2Fpeopleapi.readonly&response_type=code\n",
            "\n",
            "Enter your authorization code:\n",
            "··········\n",
            "Mounted at /ml\n"
          ],
          "name": "stdout"
        }
      ]
    },
    {
      "cell_type": "code",
      "metadata": {
        "id": "HzfyO5yUx0-x",
        "colab_type": "code",
        "outputId": "355a0001-4e2a-42d3-9236-311a12e6a73c",
        "colab": {
          "base_uri": "https://localhost:8080/",
          "height": 289
        }
      },
      "source": [
        "model = VGG16(weights='imagenet')"
      ],
      "execution_count": 5,
      "outputs": [
        {
          "output_type": "stream",
          "text": [
            "WARNING: Logging before flag parsing goes to stderr.\n",
            "W0630 14:31:11.609216 140504633079680 deprecation_wrapper.py:119] From /usr/local/lib/python3.6/dist-packages/keras/backend/tensorflow_backend.py:74: The name tf.get_default_graph is deprecated. Please use tf.compat.v1.get_default_graph instead.\n",
            "\n",
            "W0630 14:31:11.660912 140504633079680 deprecation_wrapper.py:119] From /usr/local/lib/python3.6/dist-packages/keras/backend/tensorflow_backend.py:517: The name tf.placeholder is deprecated. Please use tf.compat.v1.placeholder instead.\n",
            "\n",
            "W0630 14:31:11.669583 140504633079680 deprecation_wrapper.py:119] From /usr/local/lib/python3.6/dist-packages/keras/backend/tensorflow_backend.py:4138: The name tf.random_uniform is deprecated. Please use tf.random.uniform instead.\n",
            "\n",
            "W0630 14:31:11.729583 140504633079680 deprecation_wrapper.py:119] From /usr/local/lib/python3.6/dist-packages/keras/backend/tensorflow_backend.py:3976: The name tf.nn.max_pool is deprecated. Please use tf.nn.max_pool2d instead.\n",
            "\n"
          ],
          "name": "stderr"
        },
        {
          "output_type": "stream",
          "text": [
            "Downloading data from https://github.com/fchollet/deep-learning-models/releases/download/v0.1/vgg16_weights_tf_dim_ordering_tf_kernels.h5\n",
            "553467904/553467096 [==============================] - 13s 0us/step\n"
          ],
          "name": "stdout"
        },
        {
          "output_type": "stream",
          "text": [
            "W0630 14:31:26.107801 140504633079680 deprecation_wrapper.py:119] From /usr/local/lib/python3.6/dist-packages/keras/backend/tensorflow_backend.py:174: The name tf.get_default_session is deprecated. Please use tf.compat.v1.get_default_session instead.\n",
            "\n",
            "W0630 14:31:26.109252 140504633079680 deprecation_wrapper.py:119] From /usr/local/lib/python3.6/dist-packages/keras/backend/tensorflow_backend.py:181: The name tf.ConfigProto is deprecated. Please use tf.compat.v1.ConfigProto instead.\n",
            "\n"
          ],
          "name": "stderr"
        }
      ]
    },
    {
      "cell_type": "code",
      "metadata": {
        "id": "vQr_tgGQx8Gv",
        "colab_type": "code",
        "outputId": "46d7dbcb-c709-46c6-9f6b-f3de1fbdc097",
        "colab": {
          "base_uri": "https://localhost:8080/",
          "height": 370
        }
      },
      "source": [
        "img_path = '/ml/traffic.jpg'\n",
        "img = image.load_img(img_path, target_size=(224, 224))\n",
        "x = image.img_to_array(img)\n",
        "x = np.expand_dims(x, axis=0)\n",
        "x = preprocess_input(x)"
      ],
      "execution_count": 9,
      "outputs": [
        {
          "output_type": "error",
          "ename": "FileNotFoundError",
          "evalue": "ignored",
          "traceback": [
            "\u001b[0;31m---------------------------------------------------------------------------\u001b[0m",
            "\u001b[0;31mFileNotFoundError\u001b[0m                         Traceback (most recent call last)",
            "\u001b[0;32m<ipython-input-9-d4f6201799ef>\u001b[0m in \u001b[0;36m<module>\u001b[0;34m()\u001b[0m\n\u001b[1;32m      1\u001b[0m \u001b[0mimg_path\u001b[0m \u001b[0;34m=\u001b[0m \u001b[0;34m'/ml/traffic.jpg'\u001b[0m\u001b[0;34m\u001b[0m\u001b[0;34m\u001b[0m\u001b[0m\n\u001b[0;32m----> 2\u001b[0;31m \u001b[0mimg\u001b[0m \u001b[0;34m=\u001b[0m \u001b[0mimage\u001b[0m\u001b[0;34m.\u001b[0m\u001b[0mload_img\u001b[0m\u001b[0;34m(\u001b[0m\u001b[0mimg_path\u001b[0m\u001b[0;34m,\u001b[0m \u001b[0mtarget_size\u001b[0m\u001b[0;34m=\u001b[0m\u001b[0;34m(\u001b[0m\u001b[0;36m224\u001b[0m\u001b[0;34m,\u001b[0m \u001b[0;36m224\u001b[0m\u001b[0;34m)\u001b[0m\u001b[0;34m)\u001b[0m\u001b[0;34m\u001b[0m\u001b[0;34m\u001b[0m\u001b[0m\n\u001b[0m\u001b[1;32m      3\u001b[0m \u001b[0mx\u001b[0m \u001b[0;34m=\u001b[0m \u001b[0mimage\u001b[0m\u001b[0;34m.\u001b[0m\u001b[0mimg_to_array\u001b[0m\u001b[0;34m(\u001b[0m\u001b[0mimg\u001b[0m\u001b[0;34m)\u001b[0m\u001b[0;34m\u001b[0m\u001b[0;34m\u001b[0m\u001b[0m\n\u001b[1;32m      4\u001b[0m \u001b[0mx\u001b[0m \u001b[0;34m=\u001b[0m \u001b[0mnp\u001b[0m\u001b[0;34m.\u001b[0m\u001b[0mexpand_dims\u001b[0m\u001b[0;34m(\u001b[0m\u001b[0mx\u001b[0m\u001b[0;34m,\u001b[0m \u001b[0maxis\u001b[0m\u001b[0;34m=\u001b[0m\u001b[0;36m0\u001b[0m\u001b[0;34m)\u001b[0m\u001b[0;34m\u001b[0m\u001b[0;34m\u001b[0m\u001b[0m\n\u001b[1;32m      5\u001b[0m \u001b[0mx\u001b[0m \u001b[0;34m=\u001b[0m \u001b[0mpreprocess_input\u001b[0m\u001b[0;34m(\u001b[0m\u001b[0mx\u001b[0m\u001b[0;34m)\u001b[0m\u001b[0;34m\u001b[0m\u001b[0;34m\u001b[0m\u001b[0m\n",
            "\u001b[0;32m/usr/local/lib/python3.6/dist-packages/keras_preprocessing/image/utils.py\u001b[0m in \u001b[0;36mload_img\u001b[0;34m(path, grayscale, color_mode, target_size, interpolation)\u001b[0m\n\u001b[1;32m    108\u001b[0m         raise ImportError('Could not import PIL.Image. '\n\u001b[1;32m    109\u001b[0m                           'The use of `load_img` requires PIL.')\n\u001b[0;32m--> 110\u001b[0;31m     \u001b[0mimg\u001b[0m \u001b[0;34m=\u001b[0m \u001b[0mpil_image\u001b[0m\u001b[0;34m.\u001b[0m\u001b[0mopen\u001b[0m\u001b[0;34m(\u001b[0m\u001b[0mpath\u001b[0m\u001b[0;34m)\u001b[0m\u001b[0;34m\u001b[0m\u001b[0;34m\u001b[0m\u001b[0m\n\u001b[0m\u001b[1;32m    111\u001b[0m     \u001b[0;32mif\u001b[0m \u001b[0mcolor_mode\u001b[0m \u001b[0;34m==\u001b[0m \u001b[0;34m'grayscale'\u001b[0m\u001b[0;34m:\u001b[0m\u001b[0;34m\u001b[0m\u001b[0;34m\u001b[0m\u001b[0m\n\u001b[1;32m    112\u001b[0m         \u001b[0;32mif\u001b[0m \u001b[0mimg\u001b[0m\u001b[0;34m.\u001b[0m\u001b[0mmode\u001b[0m \u001b[0;34m!=\u001b[0m \u001b[0;34m'L'\u001b[0m\u001b[0;34m:\u001b[0m\u001b[0;34m\u001b[0m\u001b[0;34m\u001b[0m\u001b[0m\n",
            "\u001b[0;32m/usr/local/lib/python3.6/dist-packages/PIL/Image.py\u001b[0m in \u001b[0;36mopen\u001b[0;34m(fp, mode)\u001b[0m\n\u001b[1;32m   2528\u001b[0m \u001b[0;34m\u001b[0m\u001b[0m\n\u001b[1;32m   2529\u001b[0m     \u001b[0;32mif\u001b[0m \u001b[0mfilename\u001b[0m\u001b[0;34m:\u001b[0m\u001b[0;34m\u001b[0m\u001b[0;34m\u001b[0m\u001b[0m\n\u001b[0;32m-> 2530\u001b[0;31m         \u001b[0mfp\u001b[0m \u001b[0;34m=\u001b[0m \u001b[0mbuiltins\u001b[0m\u001b[0;34m.\u001b[0m\u001b[0mopen\u001b[0m\u001b[0;34m(\u001b[0m\u001b[0mfilename\u001b[0m\u001b[0;34m,\u001b[0m \u001b[0;34m\"rb\"\u001b[0m\u001b[0;34m)\u001b[0m\u001b[0;34m\u001b[0m\u001b[0;34m\u001b[0m\u001b[0m\n\u001b[0m\u001b[1;32m   2531\u001b[0m         \u001b[0mexclusive_fp\u001b[0m \u001b[0;34m=\u001b[0m \u001b[0;32mTrue\u001b[0m\u001b[0;34m\u001b[0m\u001b[0;34m\u001b[0m\u001b[0m\n\u001b[1;32m   2532\u001b[0m \u001b[0;34m\u001b[0m\u001b[0m\n",
            "\u001b[0;31mFileNotFoundError\u001b[0m: [Errno 2] No such file or directory: '/ml/traffic.jpg'"
          ]
        }
      ]
    },
    {
      "cell_type": "code",
      "metadata": {
        "id": "wghQUltfzYH6",
        "colab_type": "code",
        "colab": {
          "base_uri": "https://localhost:8080/",
          "height": 162
        },
        "outputId": "3c3ad8c2-beb2-47c1-b4db-75f720d19b1e"
      },
      "source": [
        "img"
      ],
      "execution_count": 8,
      "outputs": [
        {
          "output_type": "error",
          "ename": "NameError",
          "evalue": "ignored",
          "traceback": [
            "\u001b[0;31m---------------------------------------------------------------------------\u001b[0m",
            "\u001b[0;31mNameError\u001b[0m                                 Traceback (most recent call last)",
            "\u001b[0;32m<ipython-input-8-77a7949ba908>\u001b[0m in \u001b[0;36m<module>\u001b[0;34m()\u001b[0m\n\u001b[0;32m----> 1\u001b[0;31m \u001b[0mimg\u001b[0m\u001b[0;34m\u001b[0m\u001b[0;34m\u001b[0m\u001b[0m\n\u001b[0m",
            "\u001b[0;31mNameError\u001b[0m: name 'img' is not defined"
          ]
        }
      ]
    },
    {
      "cell_type": "code",
      "metadata": {
        "id": "8cp1Y020zKOj",
        "colab_type": "code",
        "outputId": "3fe974ba-c2dd-4b53-ac0d-671116c023e3",
        "colab": {
          "base_uri": "https://localhost:8080/",
          "height": 34
        }
      },
      "source": [
        "features = model.predict(x)\n",
        "print('Predicted:', decode_predictions(features, top=3)[0])"
      ],
      "execution_count": 0,
      "outputs": [
        {
          "output_type": "stream",
          "text": [
            "Predicted: [('n03127747', 'crash_helmet', 0.8315957), ('n03785016', 'moped', 0.0554454), ('n03792782', 'mountain_bike', 0.03753255)]\n"
          ],
          "name": "stdout"
        }
      ]
    },
    {
      "cell_type": "code",
      "metadata": {
        "id": "C61oiiMf064A",
        "colab_type": "code",
        "outputId": "d0017378-eb4b-4cdc-e9b8-9ac29de56678",
        "colab": {
          "base_uri": "https://localhost:8080/",
          "height": 1445
        }
      },
      "source": [
        ""
      ],
      "execution_count": 0,
      "outputs": [
        {
          "output_type": "execute_result",
          "data": {
            "text/plain": [
              "array([[[[ 0.       ,  0.       ,  0.       , ...,  0.       ,\n",
              "           0.       ,  0.       ],\n",
              "         [ 0.       ,  0.       ,  0.       , ...,  0.       ,\n",
              "           0.       ,  0.       ],\n",
              "         [ 0.       ,  0.       ,  0.       , ...,  0.       ,\n",
              "           0.       ,  0.       ],\n",
              "         ...,\n",
              "         [ 0.       ,  0.       ,  0.       , ...,  0.       ,\n",
              "           0.       ,  0.       ],\n",
              "         [ 0.       ,  0.       ,  0.       , ...,  0.       ,\n",
              "           0.       ,  0.       ],\n",
              "         [ 0.       ,  0.       ,  0.       , ...,  0.       ,\n",
              "           0.       ,  0.       ]],\n",
              "\n",
              "        [[ 0.       ,  0.       ,  0.       , ...,  0.       ,\n",
              "           0.       ,  0.       ],\n",
              "         [ 0.       ,  0.       , 19.551716 , ...,  0.       ,\n",
              "           0.       ,  0.       ],\n",
              "         [ 0.       ,  0.       , 34.618587 , ...,  0.       ,\n",
              "           0.       ,  0.       ],\n",
              "         ...,\n",
              "         [ 0.       ,  0.       ,  8.862607 , ...,  0.       ,\n",
              "           0.       ,  0.       ],\n",
              "         [ 0.       ,  0.       ,  0.       , ...,  0.       ,\n",
              "           0.       ,  0.       ],\n",
              "         [ 0.       ,  0.       ,  0.       , ...,  0.       ,\n",
              "           0.       ,  0.       ]],\n",
              "\n",
              "        [[ 0.       ,  0.       ,  0.       , ...,  0.       ,\n",
              "           0.       ,  0.       ],\n",
              "         [ 4.4434366,  0.       ,  0.       , ...,  0.       ,\n",
              "           0.       ,  0.       ],\n",
              "         [ 0.       ,  0.       , 47.286655 , ...,  0.       ,\n",
              "           0.       ,  0.       ],\n",
              "         ...,\n",
              "         [ 0.       ,  0.       , 63.41874  , ...,  0.       ,\n",
              "           0.       ,  0.       ],\n",
              "         [ 0.       ,  0.       ,  8.62056  , ...,  0.       ,\n",
              "           0.       ,  0.       ],\n",
              "         [ 0.       ,  0.       ,  0.       , ...,  0.       ,\n",
              "           0.       ,  0.       ]],\n",
              "\n",
              "        ...,\n",
              "\n",
              "        [[ 0.       ,  0.       ,  0.       , ...,  0.       ,\n",
              "           0.       ,  0.       ],\n",
              "         [ 0.       ,  0.       ,  0.       , ...,  0.       ,\n",
              "           0.       ,  0.       ],\n",
              "         [ 0.       ,  0.       ,  0.       , ...,  0.       ,\n",
              "           0.       ,  0.       ],\n",
              "         ...,\n",
              "         [ 0.       ,  0.       ,  0.       , ...,  0.       ,\n",
              "           0.       , 11.381715 ],\n",
              "         [ 0.       ,  0.       ,  0.       , ...,  0.       ,\n",
              "           0.       ,  0.       ],\n",
              "         [ 0.       ,  0.       ,  0.       , ...,  0.       ,\n",
              "           0.       ,  0.       ]],\n",
              "\n",
              "        [[ 0.       ,  0.       ,  0.       , ...,  0.       ,\n",
              "           0.       ,  0.       ],\n",
              "         [ 0.       ,  0.       ,  0.       , ...,  0.       ,\n",
              "           0.       ,  0.       ],\n",
              "         [ 0.       ,  0.       ,  0.       , ...,  0.       ,\n",
              "           0.       ,  0.       ],\n",
              "         ...,\n",
              "         [ 0.       ,  0.       ,  0.       , ...,  0.       ,\n",
              "           0.       , 20.693474 ],\n",
              "         [ 0.       ,  0.       ,  0.       , ...,  0.       ,\n",
              "           0.       ,  0.       ],\n",
              "         [ 0.       ,  0.       ,  0.       , ...,  0.       ,\n",
              "           0.       ,  0.       ]],\n",
              "\n",
              "        [[ 0.       ,  0.       ,  0.       , ...,  0.       ,\n",
              "           0.       ,  0.       ],\n",
              "         [ 0.       ,  0.       ,  0.       , ...,  0.       ,\n",
              "           0.       ,  0.       ],\n",
              "         [ 0.       ,  0.       ,  0.       , ...,  0.       ,\n",
              "           0.       ,  0.       ],\n",
              "         ...,\n",
              "         [ 0.       ,  0.       ,  0.       , ...,  0.       ,\n",
              "           0.       ,  0.       ],\n",
              "         [ 0.       ,  0.       ,  0.       , ...,  0.       ,\n",
              "           0.       ,  0.       ],\n",
              "         [ 0.       ,  0.       ,  0.       , ...,  0.       ,\n",
              "           0.       ,  0.       ]]]], dtype=float32)"
            ]
          },
          "metadata": {
            "tags": []
          },
          "execution_count": 14
        }
      ]
    },
    {
      "cell_type": "code",
      "metadata": {
        "id": "tr2FKaxf-dI3",
        "colab_type": "code",
        "colab": {}
      },
      "source": [
        ""
      ],
      "execution_count": 0,
      "outputs": []
    },
    {
      "cell_type": "code",
      "metadata": {
        "id": "e5Qny9IF09NA",
        "colab_type": "code",
        "colab": {}
      },
      "source": [
        ""
      ],
      "execution_count": 0,
      "outputs": []
    }
  ]
}